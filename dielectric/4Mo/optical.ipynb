{
 "cells": [
  {
   "cell_type": "markdown",
   "metadata": {},
   "source": [
    "# Initialize packages"
   ]
  },
  {
   "cell_type": "code",
   "execution_count": 1,
   "metadata": {},
   "outputs": [],
   "source": [
    "import pandas as pd\n",
    "import matplotlib.pyplot as plt"
   ]
  },
  {
   "cell_type": "markdown",
   "metadata": {},
   "source": [
    "# Import the data"
   ]
  },
  {
   "cell_type": "code",
   "execution_count": 2,
   "metadata": {},
   "outputs": [],
   "source": [
    "# Declare the data filename\n",
    "\n",
    "epsi = \"epsi_MoS2.dat\"\n",
    "epsr = \"epsr_MoS2.dat\"\n",
    "# Define the header of the dataset\n",
    "\n",
    "ColumnName1 = ['Energy_eV', 'epsi_x', 'epsi_y', 'epsi_z']\n",
    "ColumnName2 = ['Energy_eV', 'epsr_x', 'epsr_y', 'epsr_z']\n",
    "\n"
   ]
  },
  {
   "cell_type": "markdown",
   "metadata": {},
   "source": [
    "Read the data  datafile variable of a string of the file"
   ]
  },
  {
   "cell_type": "code",
   "execution_count": 3,
   "metadata": {},
   "outputs": [
    {
     "data": {
      "text/html": [
       "<div>\n",
       "<style scoped>\n",
       "    .dataframe tbody tr th:only-of-type {\n",
       "        vertical-align: middle;\n",
       "    }\n",
       "\n",
       "    .dataframe tbody tr th {\n",
       "        vertical-align: top;\n",
       "    }\n",
       "\n",
       "    .dataframe thead th {\n",
       "        text-align: right;\n",
       "    }\n",
       "</style>\n",
       "<table border=\"1\" class=\"dataframe\">\n",
       "  <thead>\n",
       "    <tr style=\"text-align: right;\">\n",
       "      <th></th>\n",
       "      <th>Energy_eV</th>\n",
       "      <th>epsr_x</th>\n",
       "      <th>epsr_y</th>\n",
       "      <th>epsr_z</th>\n",
       "    </tr>\n",
       "  </thead>\n",
       "  <tbody>\n",
       "    <tr>\n",
       "      <th>0</th>\n",
       "      <td>0.021038</td>\n",
       "      <td>-220.431316</td>\n",
       "      <td>-521.726896</td>\n",
       "      <td>6.863527</td>\n",
       "    </tr>\n",
       "    <tr>\n",
       "      <th>1</th>\n",
       "      <td>0.041076</td>\n",
       "      <td>-39.404973</td>\n",
       "      <td>-112.379183</td>\n",
       "      <td>6.478105</td>\n",
       "    </tr>\n",
       "    <tr>\n",
       "      <th>2</th>\n",
       "      <td>0.061114</td>\n",
       "      <td>-6.085997</td>\n",
       "      <td>-35.770819</td>\n",
       "      <td>6.299376</td>\n",
       "    </tr>\n",
       "    <tr>\n",
       "      <th>3</th>\n",
       "      <td>0.081152</td>\n",
       "      <td>4.792879</td>\n",
       "      <td>-10.063383</td>\n",
       "      <td>6.199463</td>\n",
       "    </tr>\n",
       "    <tr>\n",
       "      <th>4</th>\n",
       "      <td>0.101190</td>\n",
       "      <td>9.268256</td>\n",
       "      <td>0.934011</td>\n",
       "      <td>6.137512</td>\n",
       "    </tr>\n",
       "  </tbody>\n",
       "</table>\n",
       "</div>"
      ],
      "text/plain": [
       "   Energy_eV      epsr_x      epsr_y    epsr_z\n",
       "0   0.021038 -220.431316 -521.726896  6.863527\n",
       "1   0.041076  -39.404973 -112.379183  6.478105\n",
       "2   0.061114   -6.085997  -35.770819  6.299376\n",
       "3   0.081152    4.792879  -10.063383  6.199463\n",
       "4   0.101190    9.268256    0.934011  6.137512"
      ]
     },
     "execution_count": 3,
     "metadata": {},
     "output_type": "execute_result"
    }
   ],
   "source": [
    "#Read the data\n",
    "\n",
    "epsi = pd.read_csv(epsi, skiprows=2, delim_whitespace=True, names=ColumnName1)\n",
    "epsr = pd.read_csv(epsr, skiprows=3, delim_whitespace=True, names=ColumnName2)\n",
    "\n",
    "#Show first five datapoints\n",
    "\n",
    "epsi.head()\n",
    "epsr.head()"
   ]
  },
  {
   "cell_type": "code",
   "execution_count": 4,
   "metadata": {},
   "outputs": [
    {
     "data": {
      "text/plain": [
       "<matplotlib.legend.Legend at 0x23a80b05a90>"
      ]
     },
     "execution_count": 4,
     "metadata": {},
     "output_type": "execute_result"
    },
    {
     "data": {
      "image/png": "[encoded data removed]",
      "text/plain": [
       "<Figure size 576x360 with 1 Axes>"
      ]
     },
     "metadata": {
      "needs_background": "light"
     },
     "output_type": "display_data"
    }
   ],
   "source": [
    "#Declare the figure and size\n",
    "\n",
    "dielectric_plot = plt.figure(figsize=(8,5))\n",
    "\n",
    "#Add a data to the plot (using column name)\n",
    "##\"DataSetName.ColumnName\"\n",
    "##Parameter references: https://matplotlib\n",
    "plt.plot(epsi.Energy_eV, epsi.epsi_x, color='k', ls='-', label = '${\\epsilon}\\mathrm{_i}$')\n",
    "\n",
    "#Plot details\n",
    "#plt.title(\"Density of states plot\") # we don't use this in DOS plots\n",
    "plt.ylabel('Dielectric Function', size=14)\n",
    "plt.xlabel('Energy (eV)', size=14)\n",
    "\n",
    "#Plot x and y range\n",
    "\n",
    "plt.xlim(0, 3)\n",
    "plt.ylim(0,40)\n",
    "plt.xticks(ticks = (0.0, 0.2, 0.4, 0.6, 0.8, 1.0, 1.2, 1.4, 1.6, 1.8, 2.0, 2.2, 2.4, 2.6, 2.8, 3.0))\n",
    "#activates legends\n",
    "plt.legend(loc='upper right', prop={'size': 14})\n"
   ]
  },
  {
   "cell_type": "code",
   "execution_count": 5,
   "metadata": {},
   "outputs": [],
   "source": [
    "#Define filename\n",
    "\n",
    "fname = \"4Mo_epsi.png\"\n",
    "\n",
    "#Save the plot\n",
    "\n",
    "dielectric_plot.savefig(fname, dpi=500, transparent=True, bbox_inches='tight')"
   ]
  },
  {
   "cell_type": "code",
   "execution_count": 6,
   "metadata": {},
   "outputs": [
    {
     "data": {
      "text/plain": [
       "<matplotlib.legend.Legend at 0x23a86364940>"
      ]
     },
     "execution_count": 6,
     "metadata": {},
     "output_type": "execute_result"
    },
    {
     "data": {
      "image/png": "[encoded data removed]",
      "text/plain": [
       "<Figure size 576x360 with 1 Axes>"
      ]
     },
     "metadata": {
      "needs_background": "light"
     },
     "output_type": "display_data"
    }
   ],
   "source": [
    "#Declare the figure and size\n",
    "\n",
    "dielectric_plot = plt.figure(figsize=(8,5))\n",
    "\n",
    "#Add a data to the plot (using column name)\n",
    "##\"DataSetName.ColumnName\"\n",
    "##Parameter references: https://matplotlib\n",
    "plt.plot(epsr.Energy_eV, epsr.epsr_x, color='k', ls='--', label = '${\\epsilon}\\mathrm{_r}$')\n",
    "\n",
    "#Plot details\n",
    "#plt.title(\"Density of states plot\") # we don't use this in DOS plots\n",
    "plt.ylabel('Dielectric Function', size=14)\n",
    "plt.xlabel('Energy (eV)', size=14)\n",
    "\n",
    "#Plot x and y range\n",
    "\n",
    "plt.xlim(0, 3)\n",
    "plt.ylim(0,16)\n",
    "plt.xticks(ticks = (0.0, 0.2, 0.4, 0.6, 0.8, 1.0, 1.2, 1.4, 1.6, 1.8, 2.0, 2.2, 2.4, 2.6, 2.8, 3.0))\n",
    "#activates legends\n",
    "plt.legend(loc='upper right', prop={'size': 14})\n"
   ]
  },
  {
   "cell_type": "code",
   "execution_count": 7,
   "metadata": {},
   "outputs": [],
   "source": [
    "#Define filename\n",
    "\n",
    "fname = \"4Mo_epsr.png\"\n",
    "\n",
    "#Save the plot\n",
    "\n",
    "dielectric_plot.savefig(fname, dpi=500, transparent=True, bbox_inches='tight')"
   ]
  },
  {
   "cell_type": "code",
   "execution_count": 8,
   "metadata": {},
   "outputs": [
    {
     "data": {
      "text/plain": [
       "<matplotlib.legend.Legend at 0x23a80f16d00>"
      ]
     },
     "execution_count": 8,
     "metadata": {},
     "output_type": "execute_result"
    },
    {
     "data": {
      "image/png": "[encoded data removed]",
      "text/plain": [
       "<Figure size 576x360 with 1 Axes>"
      ]
     },
     "metadata": {
      "needs_background": "light"
     },
     "output_type": "display_data"
    }
   ],
   "source": [
    "#Declare the figure and size\n",
    "\n",
    "dielectric_plot = plt.figure(figsize=(8,5))\n",
    "\n",
    "#Add a data to the plot (using column name)\n",
    "##\"DataSetName.ColumnName\"\n",
    "##Parameter references: https://matplotlib\n",
    "plt.plot(epsi.Energy_eV, epsi.epsi_x, color='k', ls='-', label = '${\\epsilon}\\mathrm{_i}$')\n",
    "plt.plot(epsr.Energy_eV, epsr.epsr_x, color='k', ls='--', label = '${\\epsilon}\\mathrm{_r}$')\n",
    "\n",
    "#Plot details\n",
    "#plt.title(\"Density of states plot\") # we don't use this in DOS plots\n",
    "plt.ylabel('Dielectric Function', size=14)\n",
    "plt.xlabel('Energy (eV)', size=14)\n",
    "\n",
    "#Plot x and y range\n",
    "\n",
    "plt.xlim(0, 3)\n",
    "plt.ylim(0,40)\n",
    "plt.xticks(ticks = (0.0, 0.2, 0.4, 0.6, 0.8, 1.0, 1.2, 1.4, 1.6, 1.8, 2.0, 2.2, 2.4, 2.6, 2.8, 3.0))\n",
    "#activates legends\n",
    "plt.legend(loc='upper right', prop={'size': 14})\n"
   ]
  },
  {
   "cell_type": "code",
   "execution_count": 9,
   "metadata": {},
   "outputs": [],
   "source": [
    "#Define filename\n",
    "\n",
    "fname = \"4Mo_dielectric.png\"\n",
    "\n",
    "#Save the plot\n",
    "\n",
    "dielectric_plot.savefig(fname, dpi=500, transparent=True, bbox_inches='tight')"
   ]
  }
 ],
 "metadata": {
  "kernelspec": {
   "display_name": "Python 3",
   "language": "python",
   "name": "python3"
  },
  "language_info": {
   "codemirror_mode": {
    "name": "ipython",
    "version": 3
   },
   "file_extension": ".py",
   "mimetype": "text/x-python",
   "name": "python",
   "nbconvert_exporter": "python",
   "pygments_lexer": "ipython3",
   "version": "3.8.5"
  }
 },
 "nbformat": 4,
 "nbformat_minor": 4
}
